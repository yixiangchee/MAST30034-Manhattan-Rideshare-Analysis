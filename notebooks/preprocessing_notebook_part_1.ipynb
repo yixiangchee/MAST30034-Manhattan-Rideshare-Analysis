{
 "cells": [
  {
   "cell_type": "markdown",
   "metadata": {},
   "source": [
    "# MAST30034 Applied Data Science Project 1"
   ]
  },
  {
   "cell_type": "markdown",
   "metadata": {},
   "source": [
    "## Part 1: Preprocessing (I)"
   ]
  },
  {
   "cell_type": "markdown",
   "metadata": {},
   "source": [
    "### Import Libraries and Create Spark Session"
   ]
  },
  {
   "cell_type": "code",
   "execution_count": null,
   "metadata": {},
   "outputs": [],
   "source": [
    "import pandas as pd\n",
    "from pyspark.sql import SparkSession, functions as F\n",
    "import os"
   ]
  },
  {
   "cell_type": "code",
   "execution_count": null,
   "metadata": {},
   "outputs": [],
   "source": [
    "spark = (\n",
    "    SparkSession.builder.appName(\"MAST30034 Project 1-1\")\n",
    "    .config(\"spark.sql.repl.eagerEval.enabled\", True)\n",
    "    .config(\"spark.sql.parquet.cacheMetadata\", \"true\")\n",
    "    .config(\"spark.executor.memory\", \"10g\")\n",
    "    .config(\"spark.driver.memory\", \"10g\")\n",
    "    .config(\"spark.sql.session.timeZone\",  \"Etc/UTC\")\n",
    "    .getOrCreate()\n",
    ")"
   ]
  },
  {
   "cell_type": "markdown",
   "metadata": {},
   "source": [
    "### Read In Data"
   ]
  },
  {
   "cell_type": "code",
   "execution_count": null,
   "metadata": {},
   "outputs": [],
   "source": [
    "# Rent and taxi zone data\n",
    "rent_df = pd.read_csv(\"../data/raw/rental_data/medianAskingRent_All.csv\")\n",
    "zones_df = pd.read_csv(\"../data/taxi_zones/taxi+_zone_lookup.csv\")\n",
    "\n",
    "# Trip data\n",
    "sdf = spark.read.parquet('../data/raw/tlc_data/')\n",
    "sdf_test = spark.read.parquet('../data/raw/tlc_test_data/')"
   ]
  },
  {
   "cell_type": "code",
   "execution_count": null,
   "metadata": {},
   "outputs": [],
   "source": [
    "CURATED_PATH = \"../data/curated/\"\n",
    "if not os.path.exists(CURATED_PATH):\n",
    "    os.makedirs(CURATED_PATH)"
   ]
  },
  {
   "cell_type": "markdown",
   "metadata": {},
   "source": [
    "### Data Linkage: Link Rental Zones with Taxi Zones"
   ]
  },
  {
   "cell_type": "code",
   "execution_count": null,
   "metadata": {},
   "outputs": [],
   "source": [
    "# Filter for Manhattan and remove outlier zones\n",
    "rent_df = rent_df.loc[(rent_df[\"areaType\"] == \"neighborhood\")\n",
    "                      & (rent_df[\"Borough\"] == \"Manhattan\")]\n",
    "zones_df = zones_df.loc[(zones_df[\"Borough\"] == \"Manhattan\")\n",
    "                        & (zones_df[\"Zone\"] != \"Randalls Island\")\n",
    "                        & (zones_df[\"Zone\"] !=\n",
    "                        \"Governor's Island/Ellis Island/Liberty Island\")\n",
    "                        & (zones_df[\"Zone\"] != \"Central Park\")\n",
    "                        & (zones_df[\"Zone\"] != \"Marble Hill\")]\n",
    "\n",
    "# Manually link 50 neighbourhoods (dict in form - taxi zone: neighbourhood)\n",
    "zone_dict = {\n",
    "    \"Alphabet City\":\"East Village\",\n",
    "    \"Battery Park\": \"Battery Park City\",\n",
    "    \"Bloomingdale\": \"Upper West Side\",\n",
    "    \"Central Harlem North\": \"Central Harlem\",\n",
    "    \"Clinton East\": \"Midtown West\",\n",
    "    \"Clinton West\": \"Midtown West\",\n",
    "    \"East Chelsea\": \"Chelsea\",\n",
    "    \"East Harlem North\": \"East Harlem\",\n",
    "    \"East Harlem South\": \"East Harlem\",\n",
    "    \"Financial District North\": \"Financial District\",\n",
    "    \"Financial District South\": \"Financial District\",\n",
    "    \"Garment District\": \"Midtown\",\n",
    "    \"Gramercy\": \"Gramercy Park\",\n",
    "    \"Greenwich Village North\": \"Greenwich Village\",\n",
    "    \"Greenwich Village South\": \"Greenwich Village\",\n",
    "    \"Highbridge Park\": \"Washington Heights\",\n",
    "    \"Hudson Sq\": \"Soho\",\n",
    "    \"Inwood Hill Park\": \"Inwood\",\n",
    "    \"Kips Bay\": \"Midtown East\",\n",
    "    \"Lenox Hill East\": \"Upper East Side\",\n",
    "    \"Lenox Hill West\": \"Upper East Side\",\n",
    "    \"Lincoln Square East\": \"Upper West Side\",\n",
    "    \"Lincoln Square West\": \"Upper West Side\",\n",
    "    \"Little Italy/NoLiTa\": \"Little Italy\",\n",
    "    \"Manhattan Valley\": \"Upper West Side\",\n",
    "    \"Manhattanville\": \"West Harlem\",\n",
    "    \"Meatpacking/West Village West\": \"West Village\",\n",
    "    \"Midtown Center\": \"Midtown\",\n",
    "    \"Midtown North\": \"Central Park South\",\n",
    "    \"Murray Hill\": \"Midtown East\",\n",
    "    \"Penn Station/Madison Sq West\": \"Chelsea\",\n",
    "    \"Seaport\": \"Financial District\",\n",
    "    \"SoHo\": \"Soho\",\n",
    "    \"Stuy Town/Peter Cooper Village\": \"Stuyvesant Town/PCV\",\n",
    "    \"Sutton Place/Turtle Bay North\": \"Midtown East\",\n",
    "    \"Times Sq/Theatre District\": \"Midtown\",\n",
    "    \"TriBeCa/Civic Center\": \"Tribeca\",\n",
    "    \"Two Bridges/Seward Park\": \"Lower East Side\",\n",
    "    \"UN/Turtle Bay South\": \"Midtown East\",\n",
    "    \"Union Sq\": \"Flatiron\",\n",
    "    \"Upper East Side North\": \"Upper East Side\",\n",
    "    \"Upper East Side South\": \"Upper East Side\",\n",
    "    \"Upper West Side North\": \"Upper West Side\",\n",
    "    \"Upper West Side South\": \"Upper West Side\",\n",
    "    \"Washington Heights North\": \"Washington Heights\",\n",
    "    \"Washington Heights South\": \"Washington Heights\",\n",
    "    \"West Chelsea/Hudson Yards\": \"Chelsea\",\n",
    "    \"World Trade Center\": \"Financial District\",\n",
    "    \"Yorkville East\": \"Upper East Side\",\n",
    "    \"Yorkville West\": \"Upper East Side\"\n",
    "}\n",
    "zones_df[\"rental_zone\"] = zones_df[\"Zone\"].replace(zone_dict)"
   ]
  },
  {
   "cell_type": "code",
   "execution_count": null,
   "metadata": {},
   "outputs": [],
   "source": [
    "# Join rent and zone data (April 2022 for test data)\n",
    "RENT_COLS = [\"areaName\"] + [f\"2021-{i:02}\" for i in range(1, 13)] + [\"2022-04\"]\n",
    "merged_df = pd \\\n",
    "            .merge(zones_df, rent_df[RENT_COLS], how=\"inner\",\n",
    "                   left_on=\"rental_zone\", right_on=\"areaName\") \\\n",
    "            .drop([\"areaName\"], axis=1)\n",
    "\n",
    "# Output as a lookup file\n",
    "merged_df.to_csv(\"../data/curated/rent_taxi_zone_lookup.csv\")"
   ]
  },
  {
   "cell_type": "markdown",
   "metadata": {},
   "source": [
    "### Filtering and Outlier Removal"
   ]
  },
  {
   "cell_type": "code",
   "execution_count": null,
   "metadata": {},
   "outputs": [],
   "source": [
    "# Filter records from Manhattan\n",
    "manhattan_zone = list(set(zones_df[\"LocationID\"]))\n",
    "\n",
    "sdf_manhattan = sdf.where(\n",
    "    (F.col('PULocationID').isin(manhattan_zone))\n",
    "    & (F.col('DOLocationID').isin(manhattan_zone))\n",
    ")\n",
    "\n",
    "sdf_manhattan_test = sdf_test.where(\n",
    "    (F.col('PULocationID').isin(manhattan_zone))\n",
    "    & (F.col('DOLocationID').isin(manhattan_zone))\n",
    ")\n",
    "\n",
    "# Check the number of records\n",
    "sdf.count(), sdf_manhattan.count(), sdf_manhattan_test.count()"
   ]
  },
  {
   "cell_type": "code",
   "execution_count": null,
   "metadata": {},
   "outputs": [],
   "source": [
    "# Remove outliers (in the order mentioned in report)\n",
    "cleaned_sdf = sdf_manhattan.where(\n",
    "    (F.col('pickup_datetime') < F.col('dropoff_datetime'))\n",
    "    & (F.year('pickup_datetime') == 2021)\n",
    "    & (F.year('dropoff_datetime') == 2021)\n",
    "    & (F.col('airport_fee') == 0)\n",
    "    & (F.col(\"base_passenger_fare\") > 0)\n",
    "    & (F.col(\"driver_pay\") > 0)\n",
    "    & ((F.col(\"trip_miles\") / (F.col(\"trip_time\") / 3600)) < 120)  # >120mph\n",
    ")\n",
    "\n",
    "# Amount of records after outlier removal\n",
    "cleaned_sdf.count()"
   ]
  },
  {
   "cell_type": "markdown",
   "metadata": {},
   "source": [
    "### Output Data"
   ]
  },
  {
   "cell_type": "code",
   "execution_count": null,
   "metadata": {},
   "outputs": [],
   "source": [
    "# Full data for analysis and modelling\n",
    "cleaned_sdf \\\n",
    "    .write \\\n",
    "    .mode('overwrite') \\\n",
    "    .parquet('../data/curated/full_data/manhattan_data_cleaned')\n",
    "\n",
    "sdf_manhattan_test \\\n",
    "    .write \\\n",
    "    .mode('overwrite') \\\n",
    "    .parquet('../data/curated/full_data/manhattan_data_test')"
   ]
  },
  {
   "cell_type": "markdown",
   "metadata": {},
   "source": [
    "Random sample of 5% of records has been taken to save computational time in geospatial plotting, but full distribution of data is still used for analysis"
   ]
  },
  {
   "cell_type": "code",
   "execution_count": null,
   "metadata": {},
   "outputs": [],
   "source": [
    "# Sampled data for visualisation\n",
    "cleaned_sdf \\\n",
    "    .select(['hvfhs_license_num', 'PULocationID', 'DOLocationID']) \\\n",
    "    .sample(0.05, seed=0) \\\n",
    "    .write \\\n",
    "    .mode('overwrite') \\\n",
    "    .parquet('../data/curated/sampled_data')"
   ]
  }
 ],
 "metadata": {
  "interpreter": {
   "hash": "31f2aee4e71d21fbe5cf8b01ff0e069b9275f58929596ceb00d14d90e3e16cd6"
  },
  "kernelspec": {
   "display_name": "Python 3.8.2 64-bit",
   "language": "python",
   "name": "python3"
  },
  "language_info": {
   "codemirror_mode": {
    "name": "ipython",
    "version": 3
   },
   "file_extension": ".py",
   "mimetype": "text/x-python",
   "name": "python",
   "nbconvert_exporter": "python",
   "pygments_lexer": "ipython3",
   "version": "3.8.2"
  },
  "orig_nbformat": 4
 },
 "nbformat": 4,
 "nbformat_minor": 2
}
