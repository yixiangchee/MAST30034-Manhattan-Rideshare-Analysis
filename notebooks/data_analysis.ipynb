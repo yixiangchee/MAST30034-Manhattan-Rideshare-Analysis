{
 "cells": [
  {
   "cell_type": "markdown",
   "metadata": {},
   "source": [
    "# MAST30034 Applied Data Science Project 1"
   ]
  },
  {
   "cell_type": "markdown",
   "metadata": {},
   "source": [
    "## Part 2: Analysis"
   ]
  },
  {
   "cell_type": "markdown",
   "metadata": {},
   "source": [
    "### Import Libraries and Create Spark Session"
   ]
  },
  {
   "cell_type": "code",
   "execution_count": null,
   "metadata": {},
   "outputs": [],
   "source": [
    "import pandas as pd\n",
    "import numpy as np\n",
    "import geopandas as gpd\n",
    "import folium\n",
    "import seaborn as sns\n",
    "from matplotlib import pyplot as plt\n",
    "from matplotlib import lines\n",
    "from statsmodels.formula.api import ols\n",
    "import statsmodels.api as sm\n",
    "from pyspark.sql import SparkSession, functions as F"
   ]
  },
  {
   "cell_type": "code",
   "execution_count": null,
   "metadata": {},
   "outputs": [],
   "source": [
    "# Create a spark session\n",
    "spark = (\n",
    "    SparkSession.builder.appName(\"MAST30034 Project 1-2\")\n",
    "    .config(\"spark.sql.repl.eagerEval.enabled\", True)\n",
    "    .config(\"spark.sql.parquet.cacheMetadata\", \"true\")\n",
    "    .config(\"spark.executor.memory\", \"10g\")\n",
    "    .config(\"spark.driver.memory\", \"10g\")\n",
    "    .config(\"spark.sql.session.timeZone\",  \"Etc/UTC\")\n",
    "    .getOrCreate()\n",
    ")"
   ]
  },
  {
   "cell_type": "markdown",
   "metadata": {},
   "source": [
    "### Read In Data"
   ]
  },
  {
   "cell_type": "code",
   "execution_count": null,
   "metadata": {},
   "outputs": [],
   "source": [
    "total_pu = pd.read_csv(\"../data/curated/analysis/total_pu.csv\")\n",
    "zones_rent = pd.read_csv(\"../data/curated/analysis/zones_rent.csv\")\n",
    "pu_rent = pd.read_csv(\"../data/curated/analysis/pu_rent.csv\")\n",
    "pickup_sample = pd \\\n",
    "    .read_parquet('../data/curated/sampled_data')\n",
    "sf = gpd.read_file(\"../data/taxi_zones/taxi_zones.shp\")"
   ]
  },
  {
   "cell_type": "markdown",
   "metadata": {},
   "source": [
    "### Relationship between Pickup and Rent"
   ]
  },
  {
   "cell_type": "code",
   "execution_count": null,
   "metadata": {},
   "outputs": [],
   "source": [
    "# Rent of months we would like to analyse\n",
    "RENT_COLS = [f\"2021-{i:02}\" for i in range(1, 13)]"
   ]
  },
  {
   "cell_type": "markdown",
   "metadata": {},
   "source": [
    "Top Zones by Rent & Pickup"
   ]
  },
  {
   "cell_type": "code",
   "execution_count": null,
   "metadata": {},
   "outputs": [],
   "source": [
    "# Inspect neighbourhoods with highest pickups\n",
    "pu_rent \\\n",
    "    .groupby(\"Zone\") \\\n",
    "    .aggregate({\"total_pickups\": sum}) \\\n",
    "    .sort_values(by=\"total_pickups\", ascending=False) \\\n",
    "    .head(5)"
   ]
  },
  {
   "cell_type": "code",
   "execution_count": null,
   "metadata": {},
   "outputs": [],
   "source": [
    "# Inspect neighbourhoods with highest rent\n",
    "zones_rent[['LocationID', 'Zone', 'rental_zone', 'Average Median Rent']] \\\n",
    "    .sort_values(by=\"Average Median Rent\", ascending=False).head(5)"
   ]
  },
  {
   "cell_type": "markdown",
   "metadata": {},
   "source": [
    "Line Plot of Monthly Pickup and Rent"
   ]
  },
  {
   "cell_type": "code",
   "execution_count": null,
   "metadata": {},
   "outputs": [],
   "source": [
    "sns.set(style=\"whitegrid\")\n",
    "sns.set(rc={'figure.figsize':(9,8)})\n",
    "\n",
    "# Get the monthly rent for each neighbourhood\n",
    "MONTHS = ['Jan', 'Feb', 'Mar', 'Apr', 'May', 'Jun', \n",
    "             'Jul', 'Aug', 'Sep', 'Oct', 'Nov', 'Dec']  \n",
    "rent = zones_rent[RENT_COLS].drop_duplicates()\n",
    "\n",
    "\n",
    "# Plot rent on one axis (left)\n",
    "rent_plot = sns.pointplot(x=MONTHS, y=rent.mean().values)\n",
    "rent_plot.set_xticklabels(MONTHS)\n",
    "rent_plot.set_xlabel(\"Month\") \n",
    "rent_plot.set_ylabel(\"Average of Median Asking Rent ($)\") \n",
    "rent_plot.set(title='Rent and Pickups in Manhattan in 2021')\n",
    "\n",
    "# Plot pickups on one axis (right)\n",
    "ax2 = rent_plot.twinx()\n",
    "pu_plot = sns.pointplot(x=MONTHS, y=total_pu[\"total_pickups\"], ax=ax2, \n",
    "                        color='r')\n",
    "pu_plot.set_ylabel(\"Total Pickups (in Millions)\")\n",
    "\n",
    "pu_plot.legend(\n",
    "        handles=[lines.Line2D([], [], marker='_', color=\"r\", label='Pickups'), \n",
    "        lines.Line2D([], [], marker='_', color=\"b\", label='Rent')]\n",
    "        )\n",
    "\n",
    "plt.savefig(\"../plots/rent_pickups.png\")"
   ]
  },
  {
   "cell_type": "markdown",
   "metadata": {},
   "source": [
    "ANOVA of Hourly Pickup with Rent"
   ]
  },
  {
   "cell_type": "code",
   "execution_count": null,
   "metadata": {},
   "outputs": [],
   "source": [
    "fit_rent = ols(\n",
    "    formula=\"total_pickups ~ rent + C(PULocationID)\",\n",
    "    data=pu_rent\n",
    ").fit()\n",
    "print(sm.stats.anova_lm(fit_rent, typ=2))"
   ]
  },
  {
   "cell_type": "markdown",
   "metadata": {},
   "source": [
    "### Geospatial Visualisation of Pickup and Rent"
   ]
  },
  {
   "cell_type": "markdown",
   "metadata": {},
   "source": [
    "Create GeoDataFrame and GeoJson"
   ]
  },
  {
   "cell_type": "code",
   "execution_count": null,
   "metadata": {},
   "outputs": [],
   "source": [
    "# Code from MAST30034 Applied Data Science Tutorial 2\n",
    "# Convert the geometry shape to to latitude and longitude\n",
    "sf['geometry'] = sf['geometry'] \\\n",
    "                    .to_crs(\"+proj=longlat +ellps=WGS84 +datum=WGS84 +no_defs\")\n",
    "\n",
    "zones = zones_rent[[\"LocationID\", \"Borough\", \"Zone\", \"service_zone\"]]\n",
    "gdf = gpd.GeoDataFrame(\n",
    "    pd.merge(zones, sf, on='LocationID', how='inner')\n",
    ")\n",
    "geoJSON = gdf[['LocationID', 'geometry']] \\\n",
    "    .drop_duplicates('LocationID').to_json()"
   ]
  },
  {
   "cell_type": "markdown",
   "metadata": {},
   "source": [
    "Aggregation of sample done here (using Pandas) since it is relatively small and quick"
   ]
  },
  {
   "cell_type": "code",
   "execution_count": null,
   "metadata": {},
   "outputs": [],
   "source": [
    "# (Sampled) total pickups for visualisation\n",
    "pu_freq = pickup_sample \\\n",
    "    .groupby('PULocationID') \\\n",
    "    .agg({'PULocationID': 'count'}) \\\n",
    "    .rename({'PULocationID': 'total_trips'}, axis=1)"
   ]
  },
  {
   "cell_type": "markdown",
   "metadata": {},
   "source": [
    "Map for Average Pickup in 2021"
   ]
  },
  {
   "cell_type": "code",
   "execution_count": null,
   "metadata": {},
   "outputs": [],
   "source": [
    "m_pu = folium.Map(location=[40.73, -73.74],\n",
    "                  tiles=\"cartodbpositron\", zoom_start=11)\n",
    "\n",
    "c_pu = folium.Choropleth(\n",
    "    geo_data=geoJSON,\n",
    "    name='Pickup Frequency By Zone',\n",
    "    data=pu_freq.reset_index(),\n",
    "    columns=['PULocationID', 'total_trips'],\n",
    "    key_on='properties.LocationID',\n",
    "    fill_color='YlOrRd',\n",
    "    nan_fill_color='black',\n",
    "    legend_name='Pickup Frequency By Zone'\n",
    ")\n",
    "\n",
    "c_pu.add_to(m_pu)\n",
    "\n",
    "m_pu"
   ]
  },
  {
   "cell_type": "markdown",
   "metadata": {},
   "source": [
    "Map for Average Median Rent in 2021"
   ]
  },
  {
   "cell_type": "code",
   "execution_count": null,
   "metadata": {},
   "outputs": [],
   "source": [
    "m_rent = folium.Map(location=[40.73, -73.74],\n",
    "                    tiles=\"cartodbpositron\", zoom_start=11)\n",
    "\n",
    "c_rent = folium.Choropleth(\n",
    "    geo_data=geoJSON,\n",
    "    name='Log of Median Rent of Manhattan Neighbourhoods',\n",
    "    data=zones_rent,\n",
    "    columns=['LocationID', \"Average Median Rent (Scaled)\"],\n",
    "    key_on='properties.LocationID',\n",
    "    fill_color='YlOrRd',\n",
    "    nan_fill_color='black',\n",
    "    legend_name='Log of Median Rent of Manhattan Neighbourhoods'\n",
    ")\n",
    "\n",
    "c_rent.add_to(m_rent)\n",
    "\n",
    "m_rent"
   ]
  }
 ],
 "metadata": {
  "interpreter": {
   "hash": "31f2aee4e71d21fbe5cf8b01ff0e069b9275f58929596ceb00d14d90e3e16cd6"
  },
  "kernelspec": {
   "display_name": "Python 3.8.2 64-bit",
   "language": "python",
   "name": "python3"
  },
  "language_info": {
   "codemirror_mode": {
    "name": "ipython",
    "version": 3
   },
   "file_extension": ".py",
   "mimetype": "text/x-python",
   "name": "python",
   "nbconvert_exporter": "python",
   "pygments_lexer": "ipython3",
   "version": "3.8.2"
  },
  "orig_nbformat": 4
 },
 "nbformat": 4,
 "nbformat_minor": 2
}
